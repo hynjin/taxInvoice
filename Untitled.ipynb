{
 "cells": [
  {
   "cell_type": "code",
   "execution_count": 1,
   "metadata": {},
   "outputs": [],
   "source": [
    "import numpy as np\n",
    "import pandas as pd\n",
    "import openpyxl\n",
    "import os"
   ]
  },
  {
   "cell_type": "code",
   "execution_count": 2,
   "metadata": {},
   "outputs": [],
   "source": [
    "erpWB = openpyxl.load_workbook('data/11ERP.xlsx')\n",
    "emailWB =  openpyxl.load_workbook('data/email.xlsx')\n",
    "taxWB = openpyxl.load_workbook('data/origin.xlsx')"
   ]
  },
  {
   "cell_type": "code",
   "execution_count": 3,
   "metadata": {},
   "outputs": [],
   "source": [
    "erpWS = erpWB[erpWB.sheetnames[0]]\n",
    "emailWS = emailWB.active\n",
    "taxWS = taxWB[taxWB.sheetnames[0]]"
   ]
  },
  {
   "cell_type": "code",
   "execution_count": 4,
   "metadata": {},
   "outputs": [],
   "source": [
    "# 이메일 사업자 번호를 키로 해쉬테이블\n",
    "emailAddress = dict()\n",
    "for i in range(2,emailWS.max_row):\n",
    "    emailAddress[emailWS[i][0].value] = emailWS[i][1].value\n",
    "    #print(emailWS[i][0].value,emailAddress[emailWS[i][0].value])"
   ]
  },
  {
   "cell_type": "code",
   "execution_count": 5,
   "metadata": {
    "scrolled": true
   },
   "outputs": [],
   "source": [
    "# erp 수금 기록 열 이름\n",
    "# 사업자번호, 법인명, 대표자, 업태, 종목, 사업장주소, 공급가액, 세액 사용\n",
    "erpDic = {'사업자번호':0,'법인명':1,'대표자':2,'업태':3,'종목':4,'사업장 주소':5,'공급가액':6,'세액':7}\n",
    "erpHash = dict() #열 이름을 키값으로 갖는 셀 위치\n",
    "erpName = []\n",
    "for c in range (0,erpWS.max_column):\n",
    "    erpHash[erpWS[2][c].value] = erpWS[2][c].coordinate.strip('0123456789')\n",
    "    #print(erpWS[2][c].value,erpHash[erpWS[2][c].value])\n"
   ]
  },
  {
   "cell_type": "code",
   "execution_count": 6,
   "metadata": {},
   "outputs": [],
   "source": [
    "erpVal = []\n",
    "for i in range (3,erpWS.max_row):\n",
    "    temp = []\n",
    "    if erpWS[erpHash['사업자번호']+str(i)].value!=None and erpWS[erpHash['수금액']+str(i)].value!=None: #사업자명이나 수금액이 없다면 저장하지 않음\n",
    "        for j in erpDic:\n",
    "            if j=='대표자': #대표자 이름 전처리\n",
    "                temp.append(erpWS[erpHash[j]+str(i)].value.strip(' '))\n",
    "            else:\n",
    "                temp.append(erpWS[erpHash[j]+str(i)].value)\n",
    "        if temp[0] in emailAddress.keys(): #저장된 이메일 주소가 없을 경우 None\n",
    "            temp.append(emailAddress[temp[0]])\n",
    "        else:\n",
    "            temp.append(None)\n",
    "        erpVal.append(temp)\n",
    "        #print(temp)"
   ]
  },
  {
   "cell_type": "code",
   "execution_count": 7,
   "metadata": {
    "scrolled": true
   },
   "outputs": [],
   "source": [
    "# 전자세금계산서 열 이름\n",
    "# 종류, 작성일자, 등록번호, 상호, 성명, 주소, 업태, 종목, 이메일, 공급가액, 세액, 일자, 품목, 공급가액, 세액, 영수/청구 사용\n",
    "taxName = []\n",
    "for c in range (0,taxWS.max_column):\n",
    "    taxName.append(taxWS[6][c])\n",
    "    #print(taxWS[6][c],taxWS[6][c].value)"
   ]
  },
  {
   "cell_type": "code",
   "execution_count": 8,
   "metadata": {},
   "outputs": [],
   "source": [
    "# 전자세금계산서의 A,B,C,D,F,G,H,I,J,L,M,O,T,U,AY 행 채울 예정\n",
    "nameDic = {'C':'사업자번호', 'E':'법인명', 'F':'대표자', 'G':'사업장 주소', 'H':'업태', 'I':'종목', 'J':'이메일', \n",
    "           'L':'공급가액', 'M':'세액', 'T':'공급가액', 'U':'세액'}\n",
    "colDic = {'A':0, 'B':1, 'C':2, 'D':3, 'E':4}"
   ]
  },
  {
   "cell_type": "code",
   "execution_count": 9,
   "metadata": {},
   "outputs": [],
   "source": [
    "# 전자세금계산서 저장을 위한 이차원 배열\n",
    "rowVal = []\n",
    "for i in  erpVal:\n",
    "    temp = []\n",
    "    for j in range (9):\n",
    "        temp.append(' ')\n",
    "    rowVal.append(temp)\n",
    "    #print(temp)"
   ]
  },
  {
   "cell_type": "code",
   "execution_count": 10,
   "metadata": {},
   "outputs": [
    {
     "data": {
      "text/plain": [
       "'B3'"
      ]
     },
     "execution_count": 10,
     "metadata": {},
     "output_type": "execute_result"
    }
   ],
   "source": [
    "emailWS[3][1].coordinate"
   ]
  },
  {
   "cell_type": "code",
   "execution_count": 11,
   "metadata": {},
   "outputs": [
    {
     "data": {
      "text/plain": [
       "368"
      ]
     },
     "execution_count": 11,
     "metadata": {},
     "output_type": "execute_result"
    }
   ],
   "source": [
    "emailWS.max_row"
   ]
  },
  {
   "cell_type": "code",
   "execution_count": 12,
   "metadata": {},
   "outputs": [
    {
     "data": {
      "text/plain": [
       "694"
      ]
     },
     "execution_count": 12,
     "metadata": {},
     "output_type": "execute_result"
    }
   ],
   "source": [
    "erpWS.max_row"
   ]
  },
  {
   "cell_type": "code",
   "execution_count": null,
   "metadata": {},
   "outputs": [],
   "source": []
  },
  {
   "cell_type": "code",
   "execution_count": 109,
   "metadata": {},
   "outputs": [],
   "source": [
    "# emailWS['A400'] = 'a' #.append(['a'])\n",
    "#emailWB.save('data/test.xlsx')"
   ]
  },
  {
   "cell_type": "code",
   "execution_count": null,
   "metadata": {},
   "outputs": [],
   "source": [
    "# erpWB.close()\n",
    "# emailWB.close()\n",
    "# taxWB.close()"
   ]
  }
 ],
 "metadata": {
  "kernelspec": {
   "display_name": "Python 3",
   "language": "python",
   "name": "python3"
  },
  "language_info": {
   "codemirror_mode": {
    "name": "ipython",
    "version": 3
   },
   "file_extension": ".py",
   "mimetype": "text/x-python",
   "name": "python",
   "nbconvert_exporter": "python",
   "pygments_lexer": "ipython3",
   "version": "3.7.4"
  }
 },
 "nbformat": 4,
 "nbformat_minor": 2
}
